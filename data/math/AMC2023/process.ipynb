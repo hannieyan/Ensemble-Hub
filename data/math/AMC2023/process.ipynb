{
 "cells": [
  {
   "cell_type": "code",
   "id": "initial_id",
   "metadata": {
    "collapsed": true,
    "ExecuteTime": {
     "end_time": "2025-05-04T14:48:18.479190Z",
     "start_time": "2025-05-04T14:48:13.693709Z"
    }
   },
   "source": [
    "from datasets import load_dataset\n",
    "import json\n",
    "import os\n",
    "\n",
    "# Load the dataset\n",
    "dataset = load_dataset(\"zwhe99/amc23\", split=\"test\")\n",
    "\n",
    "# Prepare output\n",
    "formatted_data = []\n",
    "for item in dataset:\n",
    "    question = item[\"question\"].strip() if item[\"question\"] else \"\"\n",
    "    answer = str(item[\"answer\"]).strip()\n",
    "    formatted_data.append({\n",
    "        \"instruction\": \"Solve the following math problem step by step. Write your reasoning clearly using LaTeX. Box the final answer using \\\\boxed{}.\",\n",
    "        \"input\": question,\n",
    "        \"output\": f\"\\\\boxed{{{answer}}}\"\n",
    "    })\n",
    "\n",
    "# Save\n",
    "os.makedirs(\"amc23\", exist_ok=True)\n",
    "with open(\"amc23/amc23.json\", \"w\", encoding=\"utf-8\") as f:\n",
    "    json.dump(formatted_data, f, ensure_ascii=False, indent=2)\n",
    "\n",
    "print(\"Saved: amc23/amc23.json\")\n"
   ],
   "outputs": [
    {
     "name": "stdout",
     "output_type": "stream",
     "text": [
      "Saved: amc23/amc23.json\n"
     ]
    }
   ],
   "execution_count": 3
  },
  {
   "metadata": {},
   "cell_type": "code",
   "outputs": [],
   "execution_count": null,
   "source": "",
   "id": "44db55ea3c917ce1"
  }
 ],
 "metadata": {
  "kernelspec": {
   "display_name": "Python 3",
   "language": "python",
   "name": "python3"
  },
  "language_info": {
   "codemirror_mode": {
    "name": "ipython",
    "version": 2
   },
   "file_extension": ".py",
   "mimetype": "text/x-python",
   "name": "python",
   "nbconvert_exporter": "python",
   "pygments_lexer": "ipython2",
   "version": "2.7.6"
  }
 },
 "nbformat": 4,
 "nbformat_minor": 5
}
