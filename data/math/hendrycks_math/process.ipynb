{
 "cells": [
  {
   "metadata": {},
   "cell_type": "markdown",
   "source": "# save file separately",
   "id": "960ec59edbd5fc6f"
  },
  {
   "metadata": {},
   "cell_type": "code",
   "outputs": [
    {
     "name": "stdout",
     "output_type": "stream",
     "text": [
      "Processing subset: algebra ...\n"
     ]
    },
    {
     "name": "stderr",
     "output_type": "stream",
     "text": [
      "Using the latest cached version of the dataset since EleutherAI/hendrycks_math couldn't be found on the Hugging Face Hub\n",
      "Found the latest cached dataset configuration 'algebra' at C:\\Users\\fzkuji\\.cache\\huggingface\\datasets\\EleutherAI___hendrycks_math\\algebra\\0.0.0\\21a5633873b6a120296cce3e2df9d5550074f4a3 (last modified on Mon Apr 28 17:33:33 2025).\n"
     ]
    },
    {
     "name": "stdout",
     "output_type": "stream",
     "text": [
      "Exported: hendrycks_math/test/algebra.json\n",
      "Processing subset: counting_and_probability ...\n"
     ]
    },
    {
     "name": "stderr",
     "output_type": "stream",
     "text": [
      "Using the latest cached version of the dataset since EleutherAI/hendrycks_math couldn't be found on the Hugging Face Hub\n",
      "Found the latest cached dataset configuration 'counting_and_probability' at C:\\Users\\fzkuji\\.cache\\huggingface\\datasets\\EleutherAI___hendrycks_math\\counting_and_probability\\0.0.0\\21a5633873b6a120296cce3e2df9d5550074f4a3 (last modified on Mon Apr 28 17:33:41 2025).\n"
     ]
    },
    {
     "name": "stdout",
     "output_type": "stream",
     "text": [
      "Exported: hendrycks_math/test/counting_and_probability.json\n",
      "Processing subset: geometry ...\n"
     ]
    },
    {
     "name": "stderr",
     "output_type": "stream",
     "text": [
      "Using the latest cached version of the dataset since EleutherAI/hendrycks_math couldn't be found on the Hugging Face Hub\n",
      "Found the latest cached dataset configuration 'geometry' at C:\\Users\\fzkuji\\.cache\\huggingface\\datasets\\EleutherAI___hendrycks_math\\geometry\\0.0.0\\21a5633873b6a120296cce3e2df9d5550074f4a3 (last modified on Mon Apr 28 17:33:48 2025).\n"
     ]
    },
    {
     "name": "stdout",
     "output_type": "stream",
     "text": [
      "Exported: hendrycks_math/test/geometry.json\n",
      "Processing subset: intermediate_algebra ...\n"
     ]
    },
    {
     "name": "stderr",
     "output_type": "stream",
     "text": [
      "Using the latest cached version of the dataset since EleutherAI/hendrycks_math couldn't be found on the Hugging Face Hub\n",
      "Found the latest cached dataset configuration 'intermediate_algebra' at C:\\Users\\fzkuji\\.cache\\huggingface\\datasets\\EleutherAI___hendrycks_math\\intermediate_algebra\\0.0.0\\21a5633873b6a120296cce3e2df9d5550074f4a3 (last modified on Mon Apr 28 17:33:55 2025).\n"
     ]
    },
    {
     "name": "stdout",
     "output_type": "stream",
     "text": [
      "Exported: hendrycks_math/test/intermediate_algebra.json\n",
      "Processing subset: number_theory ...\n"
     ]
    },
    {
     "name": "stderr",
     "output_type": "stream",
     "text": [
      "Using the latest cached version of the dataset since EleutherAI/hendrycks_math couldn't be found on the Hugging Face Hub\n",
      "Found the latest cached dataset configuration 'number_theory' at C:\\Users\\fzkuji\\.cache\\huggingface\\datasets\\EleutherAI___hendrycks_math\\number_theory\\0.0.0\\21a5633873b6a120296cce3e2df9d5550074f4a3 (last modified on Mon Apr 28 17:34:02 2025).\n"
     ]
    },
    {
     "name": "stdout",
     "output_type": "stream",
     "text": [
      "Exported: hendrycks_math/test/number_theory.json\n",
      "Processing subset: prealgebra ...\n"
     ]
    },
    {
     "name": "stderr",
     "output_type": "stream",
     "text": [
      "Using the latest cached version of the dataset since EleutherAI/hendrycks_math couldn't be found on the Hugging Face Hub\n",
      "Found the latest cached dataset configuration 'prealgebra' at C:\\Users\\fzkuji\\.cache\\huggingface\\datasets\\EleutherAI___hendrycks_math\\prealgebra\\0.0.0\\21a5633873b6a120296cce3e2df9d5550074f4a3 (last modified on Mon Apr 28 17:34:09 2025).\n"
     ]
    },
    {
     "name": "stdout",
     "output_type": "stream",
     "text": [
      "Exported: hendrycks_math/test/prealgebra.json\n",
      "Processing subset: precalculus ...\n"
     ]
    },
    {
     "name": "stderr",
     "output_type": "stream",
     "text": [
      "Using the latest cached version of the dataset since EleutherAI/hendrycks_math couldn't be found on the Hugging Face Hub\n",
      "Found the latest cached dataset configuration 'precalculus' at C:\\Users\\fzkuji\\.cache\\huggingface\\datasets\\EleutherAI___hendrycks_math\\precalculus\\0.0.0\\21a5633873b6a120296cce3e2df9d5550074f4a3 (last modified on Mon Apr 28 17:34:15 2025).\n"
     ]
    },
    {
     "name": "stdout",
     "output_type": "stream",
     "text": [
      "Exported: hendrycks_math/test/precalculus.json\n",
      "All subsets have been processed.\n"
     ]
    }
   ],
   "execution_count": 5,
   "source": [
    "from datasets import load_dataset\n",
    "import json\n",
    "import os\n",
    "\n",
    "\n",
    "# List of all subsets in the hendrycks_math dataset\n",
    "subsets = [\n",
    "    \"algebra\",\n",
    "    \"counting_and_probability\",\n",
    "    \"geometry\",\n",
    "    \"intermediate_algebra\",\n",
    "    \"number_theory\",\n",
    "    \"prealgebra\",\n",
    "    \"precalculus\",\n",
    "]\n",
    "\n",
    "split = \"test\"\n",
    "\n",
    "# Create output directory\n",
    "os.makedirs(f\"hendrycks_math/{split}\", exist_ok=True)\n",
    "\n",
    "# Iterate over each subset\n",
    "for subset in subsets:\n",
    "    print(f\"Processing subset: {subset} ...\")\n",
    "    dataset = load_dataset(\"EleutherAI/hendrycks_math\", subset, split=split)\n",
    "\n",
    "    # Convert to LLaMA Factory format\n",
    "    formatted_data = []\n",
    "    for item in dataset:\n",
    "        formatted_data.append({\n",
    "            \"instruction\": \"\",\n",
    "            \"input\": item[\"problem\"].strip() if item[\"problem\"] else \"\",\n",
    "            \"output\": item[\"solution\"].strip() if item[\"solution\"] else \"\"\n",
    "        })\n",
    "\n",
    "    # Save to JSON file\n",
    "    output_path = f\"hendrycks_math/{split}/{subset}.json\"\n",
    "    with open(output_path, \"w\", encoding=\"utf-8\") as f:\n",
    "        json.dump(formatted_data, f, ensure_ascii=False, indent=2)\n",
    "\n",
    "    print(f\"Exported: {output_path}\")\n",
    "\n",
    "print(\"All subsets have been processed.\")\n"
   ],
   "id": "initial_id"
  },
  {
   "metadata": {},
   "cell_type": "markdown",
   "source": "# save file together",
   "id": "3a4643b6347a55d5"
  },
  {
   "metadata": {
    "ExecuteTime": {
     "end_time": "2025-05-04T08:30:31.520952Z",
     "start_time": "2025-05-04T08:29:14.260829Z"
    }
   },
   "cell_type": "code",
   "source": [
    "from datasets import load_dataset\n",
    "import json\n",
    "import os\n",
    "\n",
    "# All math subsets\n",
    "subsets = [\n",
    "    \"algebra\",\n",
    "    \"counting_and_probability\",\n",
    "    \"geometry\",\n",
    "    \"intermediate_algebra\",\n",
    "    \"number_theory\",\n",
    "    \"prealgebra\",\n",
    "    \"precalculus\",\n",
    "]\n",
    "\n",
    "# Process both splits\n",
    "for split in [\"train\", \"test\"]:\n",
    "    print(f\"Processing split: {split} ...\")\n",
    "    all_data = []\n",
    "\n",
    "    for subset in subsets:\n",
    "        print(f\"  Loading subset: {subset} ...\")\n",
    "        try:\n",
    "            dataset = load_dataset(\"EleutherAI/hendrycks_math\", subset, split=split)\n",
    "        except Exception as e:\n",
    "            print(f\"  Skipping {subset} ({split}): {e}\")\n",
    "            continue\n",
    "\n",
    "        for item in dataset:\n",
    "            all_data.append({\n",
    "                \"instruction\": \"Solve the following math problem step by step. Write your reasoning clearly using LaTeX. Box the final answer using \\\\boxed{}.\",\n",
    "                \"input\": item[\"problem\"].strip() if item[\"problem\"] else \"\",\n",
    "                \"output\": item[\"solution\"].strip() if item[\"solution\"] else \"\"\n",
    "            })\n",
    "\n",
    "    # Create output directory\n",
    "    os.makedirs(\"hendrycks_math\", exist_ok=True)\n",
    "    output_path = f\"hendrycks_math/{split}.json\"\n",
    "    with open(output_path, \"w\", encoding=\"utf-8\") as f:\n",
    "        json.dump(all_data, f, ensure_ascii=False, indent=2)\n",
    "\n",
    "    print(f\"Saved: {output_path}\")\n",
    "\n",
    "print(\"All done.\")\n"
   ],
   "id": "496b1eac213c103",
   "outputs": [
    {
     "name": "stdout",
     "output_type": "stream",
     "text": [
      "Processing split: train ...\n",
      "  Loading subset: algebra ...\n",
      "  Loading subset: counting_and_probability ...\n",
      "  Loading subset: geometry ...\n",
      "  Loading subset: intermediate_algebra ...\n",
      "  Loading subset: number_theory ...\n",
      "  Loading subset: prealgebra ...\n"
     ]
    },
    {
     "name": "stderr",
     "output_type": "stream",
     "text": [
      "Using the latest cached version of the dataset since EleutherAI/hendrycks_math couldn't be found on the Hugging Face Hub\n",
      "Found the latest cached dataset configuration 'prealgebra' at C:\\Users\\fzkuji\\.cache\\huggingface\\datasets\\EleutherAI___hendrycks_math\\prealgebra\\0.0.0\\21a5633873b6a120296cce3e2df9d5550074f4a3 (last modified on Mon Apr 28 17:34:09 2025).\n"
     ]
    },
    {
     "name": "stdout",
     "output_type": "stream",
     "text": [
      "  Loading subset: precalculus ...\n",
      "Saved: hendrycks_math/train.json\n",
      "Processing split: test ...\n",
      "  Loading subset: algebra ...\n",
      "  Loading subset: counting_and_probability ...\n",
      "  Loading subset: geometry ...\n",
      "  Loading subset: intermediate_algebra ...\n",
      "  Loading subset: number_theory ...\n",
      "  Loading subset: prealgebra ...\n",
      "  Loading subset: precalculus ...\n",
      "Saved: hendrycks_math/test.json\n",
      "All done.\n"
     ]
    }
   ],
   "execution_count": 2
  },
  {
   "metadata": {},
   "cell_type": "code",
   "outputs": [],
   "execution_count": null,
   "source": "",
   "id": "2b3dc991b3e1aefe"
  }
 ],
 "metadata": {
  "kernelspec": {
   "display_name": "Python 3",
   "language": "python",
   "name": "python3"
  },
  "language_info": {
   "codemirror_mode": {
    "name": "ipython",
    "version": 2
   },
   "file_extension": ".py",
   "mimetype": "text/x-python",
   "name": "python",
   "nbconvert_exporter": "python",
   "pygments_lexer": "ipython2",
   "version": "2.7.6"
  }
 },
 "nbformat": 4,
 "nbformat_minor": 5
}
