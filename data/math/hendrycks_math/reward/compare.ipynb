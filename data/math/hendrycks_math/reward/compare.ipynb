{
 "cells": [
  {
   "cell_type": "code",
   "id": "initial_id",
   "metadata": {
    "collapsed": true,
    "ExecuteTime": {
     "end_time": "2025-05-06T11:40:59.843989Z",
     "start_time": "2025-05-06T11:40:59.840505Z"
    }
   },
   "source": [
    "# compare the format of two json files\n",
    "\n",
    "file_1 = \"dpo_en_demo.json\"\n",
    "file_2 = \"math_pref_dataset.json\""
   ],
   "outputs": [],
   "execution_count": 1
  },
  {
   "metadata": {
    "jupyter": {
     "is_executing": true
    },
    "ExecuteTime": {
     "end_time": "2025-05-06T11:45:28.542974800Z",
     "start_time": "2025-05-06T11:44:30.207458Z"
    }
   },
   "cell_type": "code",
   "source": [
    "import json\n",
    "import pandas as pd\n",
    "\n",
    "# math_pref_dataset.json is too big\n",
    "\n",
    "with open(file_1, \"r\", encoding=\"utf-8\") as f:\n",
    "    data_1 = json.load(f)\n",
    "\n",
    "with open(file_2, \"r\", encoding=\"utf-8\") as f:\n",
    "    data_2 = json.load(f)"
   ],
   "id": "445f19911db62a28",
   "outputs": [],
   "execution_count": null
  },
  {
   "metadata": {},
   "cell_type": "code",
   "outputs": [],
   "execution_count": null,
   "source": [
    "\n",
    "# check the format of the two json files\n",
    "# two files are list of dict\n",
    "\n",
    "\n"
   ],
   "id": "3e67329a45e06503"
  },
  {
   "metadata": {},
   "cell_type": "code",
   "outputs": [],
   "execution_count": null,
   "source": "",
   "id": "af4b15d9108350d7"
  }
 ],
 "metadata": {
  "kernelspec": {
   "display_name": "Python 3",
   "language": "python",
   "name": "python3"
  },
  "language_info": {
   "codemirror_mode": {
    "name": "ipython",
    "version": 2
   },
   "file_extension": ".py",
   "mimetype": "text/x-python",
   "name": "python",
   "nbconvert_exporter": "python",
   "pygments_lexer": "ipython2",
   "version": "2.7.6"
  }
 },
 "nbformat": 4,
 "nbformat_minor": 5
}
