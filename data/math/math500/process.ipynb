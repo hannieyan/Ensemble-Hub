{
 "cells": [
  {
   "cell_type": "code",
   "id": "523bb21116796223",
   "metadata": {
    "ExecuteTime": {
     "end_time": "2025-05-30T04:58:24.894316Z",
     "start_time": "2025-05-30T04:58:21.973782Z"
    }
   },
   "source": [
    "# 加载HuggingFaceH4/MATH-500\n",
    "from datasets import load_dataset\n",
    "import json\n",
    "\n",
    "# 加载数据集\n",
    "dataset = load_dataset(\"HuggingFaceH4/MATH-500\", split=\"test\")"
   ],
   "outputs": [],
   "execution_count": 3
  },
  {
   "cell_type": "code",
   "id": "4d010e996f728144",
   "metadata": {
    "ExecuteTime": {
     "end_time": "2025-05-30T04:58:24.918842Z",
     "start_time": "2025-05-30T04:58:24.901256Z"
    }
   },
   "source": [
    "# 转换数据结构，保持 instruction 为空\n",
    "llama_factory_data = []\n",
    "for item in dataset:\n",
    "    llama_factory_data.append({\n",
    "        \"instruction\": r\"Please solve the following math problem. Write your reasoning clearly using LaTeX. Box the final answer using \\boxed{}.\",\n",
    "        \"input\": item[\"problem\"].strip() if item[\"problem\"] else \"\",\n",
    "        \"output\": item[\"solution\"].strip() if item[\"solution\"] else \"\"\n",
    "    })\n",
    "\n",
    "# 保存为json文件，格式美观且utf-8编码\n",
    "with open(\"math500.json\", \"w\", encoding=\"utf-8\") as f:\n",
    "    json.dump(llama_factory_data, f, ensure_ascii=False, indent=2)\n",
    "\n",
    "print(\"导出完成，文件名：math500.json\")"
   ],
   "outputs": [
    {
     "name": "stdout",
     "output_type": "stream",
     "text": [
      "导出完成，文件名：math500.json\n"
     ]
    }
   ],
   "execution_count": 4
  },
  {
   "cell_type": "code",
   "id": "aab3fdc2b8e5a036",
   "metadata": {
    "ExecuteTime": {
     "end_time": "2025-05-30T07:24:42.806012Z",
     "start_time": "2025-05-30T07:24:42.793435Z"
    }
   },
   "source": [
    "# %% [markdown]\n",
    "# ## Math500 → llama-factory 数据转换器\n",
    "#\n",
    "# **功能**\n",
    "# 1. 读取原始题库（含题目与参考答案）\n",
    "# 2. 读取模型预测结果 `generated_predictions-detailed-results.jsonl`\n",
    "# 3. 判断每道题是否回答正确，生成 “Yes / No” 标签\n",
    "# 4. 按 llama-factory 所需格式导出 `math500_yesno.json`\n",
    "#\n",
    "# **使用方法**\n",
    "# - 把原始题库放到 `math500_original.json`（或自行修改路径）\n",
    "# - 把预测结果放到 `generated_predictions-detailed-results.jsonl`\n",
    "# - 运行所有单元，最终文件会保存在同级目录\n",
    "\n",
    "# %%\n",
    "import json\n",
    "from pathlib import Path\n",
    "\n",
    "# ----------------- 手动配置区 -----------------\n",
    "DATASET_PATH   = Path(\"math500.json\")          # 原始题库\n",
    "PRED_PATH      = Path(\"generated_predictions-detailed-results.jsonl\")  # 预测结果\n",
    "OUTPUT_PATH    = Path(\"math500_yesno.json\")             # 导出文件\n",
    "INSTRUCTION_TXT = (\n",
    "    \"Please decide whether you know answer to the following question.\"\n",
    "    \"No need to provide any reasoning or explanation, just give the answer with one word 'Yes' or 'No'.\"\n",
    "    \"Please answer carefully and don't be too confident. If the question is difficult, we will find a stronger model to do it. It doesn't matter if you can't.\"\n",
    ")\n",
    "# ---------------------------------------------\n",
    "\n",
    "# %%\n",
    "def load_dataset(path: Path):\n",
    "    \"\"\"\n",
    "    读取原始题库，返回 idx -> 题目信息 的 dict\n",
    "    如果你的数据是 dict 形式（带 id），请自行修改返回键\n",
    "    \"\"\"\n",
    "    with path.open(encoding=\"utf-8\") as f:\n",
    "        data = json.load(f)\n",
    "    return {idx: item for idx, item in enumerate(data)}\n",
    "\n",
    "# %%\n",
    "def load_predictions(path: Path):\n",
    "    \"\"\"\n",
    "    读取 jsonl 预测结果，返回 idx -> 是否答对 的 dict\n",
    "    常见字段: accuracy / pass / is_correct\n",
    "    如有其他字段，请在 correct 判断中补充\n",
    "    \"\"\"\n",
    "    idx2correct = {}\n",
    "    with path.open(encoding=\"utf-8\") as f:\n",
    "        for line in f:\n",
    "            rec = json.loads(line)\n",
    "            idx = rec.get(\"index\")  # 根据实际字段决定使用 \"index\" 还是 \"id\"\n",
    "            if idx is None:\n",
    "                raise KeyError(\"无法在预测文件中找到 index/id 字段！\")\n",
    "\n",
    "            correct = (\n",
    "                rec.get(\"accuracy\", 0) > 0\n",
    "                or rec.get(\"pass\", False)\n",
    "                or rec.get(\"is_correct\", False)\n",
    "            )\n",
    "            idx2correct[idx] = correct\n",
    "    return idx2correct\n",
    "\n",
    "# %%\n",
    "# 载入数据\n",
    "problems      = load_dataset(DATASET_PATH)\n",
    "pred_results  = load_predictions(PRED_PATH)\n",
    "\n",
    "print(f\"题目数量: {len(problems)}\")\n",
    "print(f\"预测记录: {len(pred_results)}\")\n",
    "\n",
    "# %%\n",
    "# 组装为 llama-factory 格式\n",
    "llama_factory_data = []\n",
    "for idx, item in problems.items():\n",
    "    problem_text = (item.get(\"input\") or item.get(\"problem\") or \"\").strip()\n",
    "    llama_factory_data.append({\n",
    "        \"instruction\": INSTRUCTION_TXT,\n",
    "        \"input\":  problem_text,\n",
    "        \"output\": \"Yes.\" if pred_results.get(idx, False) else \"No.\"\n",
    "    })\n",
    "\n",
    "# %%\n",
    "# 保存 JSON\n",
    "with OUTPUT_PATH.open(\"w\", encoding=\"utf-8\") as f:\n",
    "    json.dump(llama_factory_data, f, ensure_ascii=False, indent=2)\n",
    "\n",
    "print(f\"✅ 导出完成，文件名: {OUTPUT_PATH}\")\n",
    "\n",
    "# %%\n",
    "# （可选）快速预览前 3 条\n",
    "for sample in llama_factory_data[:3]:\n",
    "    print(sample, \"\\n\")\n"
   ],
   "outputs": [
    {
     "name": "stdout",
     "output_type": "stream",
     "text": [
      "题目数量: 500\n",
      "预测记录: 500\n",
      "✅ 导出完成，文件名: math500_yesno.json\n",
      "{'instruction': \"Please decide whether you know answer to the following question.No need to provide any reasoning or explanation, just give the answer with one word 'Yes' or 'No'.Please answer carefully and don't be too confident. If the question is difficult, we will find a stronger model to do it. It doesn't matter if you can't.\", 'input': 'Convert the point $(0,3)$ in rectangular coordinates to polar coordinates.  Enter your answer in the form $(r,\\\\theta),$ where $r > 0$ and $0 \\\\le \\\\theta < 2 \\\\pi.$', 'output': 'Yes.'} \n",
      "\n",
      "{'instruction': \"Please decide whether you know answer to the following question.No need to provide any reasoning or explanation, just give the answer with one word 'Yes' or 'No'.Please answer carefully and don't be too confident. If the question is difficult, we will find a stronger model to do it. It doesn't matter if you can't.\", 'input': 'Define\\n\\\\[p = \\\\sum_{k = 1}^\\\\infty \\\\frac{1}{k^2} \\\\quad \\\\text{and} \\\\quad q = \\\\sum_{k = 1}^\\\\infty \\\\frac{1}{k^3}.\\\\]Find a way to write\\n\\\\[\\\\sum_{j = 1}^\\\\infty \\\\sum_{k = 1}^\\\\infty \\\\frac{1}{(j + k)^3}\\\\]in terms of $p$ and $q.$', 'output': 'Yes.'} \n",
      "\n",
      "{'instruction': \"Please decide whether you know answer to the following question.No need to provide any reasoning or explanation, just give the answer with one word 'Yes' or 'No'.Please answer carefully and don't be too confident. If the question is difficult, we will find a stronger model to do it. It doesn't matter if you can't.\", 'input': 'If $f(x) = \\\\frac{3x-2}{x-2}$, what is the value of $f(-2) +f(-1)+f(0)$? Express your answer as a common fraction.', 'output': 'Yes.'} \n",
      "\n"
     ]
    }
   ],
   "execution_count": 13
  },
  {
   "metadata": {},
   "cell_type": "code",
   "outputs": [],
   "execution_count": null,
   "source": "",
   "id": "155f54cd087897a1"
  }
 ],
 "metadata": {
  "kernelspec": {
   "display_name": "Python [conda env:flash]",
   "language": "python",
   "name": "conda-env-flash-py"
  },
  "language_info": {
   "codemirror_mode": {
    "name": "ipython",
    "version": 3
   },
   "file_extension": ".py",
   "mimetype": "text/x-python",
   "name": "python",
   "nbconvert_exporter": "python",
   "pygments_lexer": "ipython3",
   "version": "3.12.8"
  }
 },
 "nbformat": 4,
 "nbformat_minor": 5
}
