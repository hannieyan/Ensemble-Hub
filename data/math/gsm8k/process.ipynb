{
 "cells": [
  {
   "metadata": {},
   "cell_type": "markdown",
   "source": "# save file separately",
   "id": "70f1ba139a558db9"
  },
  {
   "metadata": {},
   "cell_type": "code",
   "outputs": [
    {
     "name": "stdout",
     "output_type": "stream",
     "text": [
      "Processing subset: main | split: train ...\n",
      "Exported: gsm8k\\train\\main.json\n",
      "Processing subset: main | split: test ...\n",
      "Exported: gsm8k\\test\\main.json\n",
      "Processing subset: socratic | split: train ...\n",
      "Exported: gsm8k\\train\\socratic.json\n",
      "Processing subset: socratic | split: test ...\n",
      "Exported: gsm8k\\test\\socratic.json\n",
      "All subsets and splits have been processed.\n"
     ]
    }
   ],
   "execution_count": 2,
   "source": [
    "from datasets import load_dataset\n",
    "import json\n",
    "import os\n",
    "import re\n",
    "\n",
    "# Define both subsets and splits\n",
    "subsets = [\"main\", \"socratic\"]\n",
    "splits = [\"train\", \"test\"]\n",
    "\n",
    "# Output directory\n",
    "base_dir = \"gsm8k\"\n",
    "\n",
    "# Function to replace '#### 72' with '\\boxed{72}' at the end\n",
    "def replace_boxed(answer: str) -> str:\n",
    "    match = re.search(r\"####\\s*(.+)\", answer)\n",
    "    if match:\n",
    "        final_answer = match.group(1).strip()\n",
    "        # Remove original '#### ...'\n",
    "        answer = re.sub(r\"####\\s*.+\", \"\", answer).rstrip()\n",
    "        # Append \\boxed{} notation\n",
    "        answer += f\"\\n\\\\boxed{{{final_answer}}}\"\n",
    "    return answer\n",
    "\n",
    "# Process each subset and split\n",
    "for subset in subsets:\n",
    "    for split in splits:\n",
    "        print(f\"Processing subset: {subset} | split: {split} ...\")\n",
    "        try:\n",
    "            dataset = load_dataset(\"openai/gsm8k\", subset, split=split)\n",
    "        except Exception as e:\n",
    "            print(f\"Skipping {subset}-{split}: {e}\")\n",
    "            continue\n",
    "\n",
    "        # Format the data\n",
    "        formatted_data = []\n",
    "        for item in dataset:\n",
    "            input_text = item[\"question\"].strip() if item[\"question\"] else \"\"\n",
    "            output_text = item[\"answer\"].strip() if item[\"answer\"] else \"\"\n",
    "            output_text = replace_boxed(output_text)\n",
    "            formatted_data.append({\n",
    "                \"instruction\": \"\",\n",
    "                \"input\": input_text,\n",
    "                \"output\": output_text\n",
    "            })\n",
    "\n",
    "        # Save JSON\n",
    "        out_dir = os.path.join(base_dir, split)\n",
    "        os.makedirs(out_dir, exist_ok=True)\n",
    "        output_path = os.path.join(out_dir, f\"{subset}.json\")\n",
    "        with open(output_path, \"w\", encoding=\"utf-8\") as f:\n",
    "            json.dump(formatted_data, f, ensure_ascii=False, indent=2)\n",
    "\n",
    "        print(f\"Exported: {output_path}\")\n",
    "\n",
    "print(\"All subsets and splits have been processed.\")\n"
   ],
   "id": "e5124f5a82956ba0"
  },
  {
   "metadata": {},
   "cell_type": "markdown",
   "source": "# save file together",
   "id": "192bf22d0db81f89"
  },
  {
   "metadata": {
    "ExecuteTime": {
     "end_time": "2025-05-04T08:36:31.074556Z",
     "start_time": "2025-05-04T08:36:02.297353Z"
    }
   },
   "cell_type": "code",
   "source": [
    "from datasets import load_dataset\n",
    "import json\n",
    "import os\n",
    "import re\n",
    "\n",
    "# Subsets and splits\n",
    "subsets = [\"main\", \"socratic\"]\n",
    "splits = [\"train\", \"test\"]\n",
    "\n",
    "# Output directory\n",
    "os.makedirs(\"gsm8k\", exist_ok=True)\n",
    "\n",
    "# Function to replace '#### 72' with '\\boxed{72}'\n",
    "def replace_boxed(answer: str) -> str:\n",
    "    match = re.search(r\"####\\s*(.+)\", answer)\n",
    "    if match:\n",
    "        final_answer = match.group(1).strip()\n",
    "        answer = re.sub(r\"####\\s*.+\", \"\", answer).rstrip()\n",
    "        answer += f\"\\n\\\\boxed{{{final_answer}}}\"\n",
    "    return answer\n",
    "\n",
    "# Process each split, combining all subsets\n",
    "for split in splits:\n",
    "    print(f\"Processing split: {split} ...\")\n",
    "    all_data = []\n",
    "\n",
    "    for subset in subsets:\n",
    "        print(f\"  Loading subset: {subset} ...\")\n",
    "        try:\n",
    "            dataset = load_dataset(\"openai/gsm8k\", subset, split=split)\n",
    "        except Exception as e:\n",
    "            print(f\"  Skipping {subset} ({split}): {e}\")\n",
    "            continue\n",
    "\n",
    "        for item in dataset:\n",
    "            input_text = item[\"question\"].strip() if item[\"question\"] else \"\"\n",
    "            output_text = item[\"answer\"].strip() if item[\"answer\"] else \"\"\n",
    "            output_text = replace_boxed(output_text)\n",
    "            all_data.append({\n",
    "                \"instruction\": \"Solve the following math problem step by step. Write your reasoning clearly using LaTeX. Box the final answer using \\\\boxed{}.\",\n",
    "                \"input\": input_text,\n",
    "                \"output\": output_text\n",
    "            })\n",
    "\n",
    "    # Save merged file for this split\n",
    "    output_path = f\"gsm8k/{split}.json\"\n",
    "    with open(output_path, \"w\", encoding=\"utf-8\") as f:\n",
    "        json.dump(all_data, f, ensure_ascii=False, indent=2)\n",
    "\n",
    "    print(f\"Exported: {output_path}\")\n",
    "\n",
    "print(\"All splits processed and saved.\")\n"
   ],
   "id": "7ce2cd59d9f06195",
   "outputs": [
    {
     "name": "stderr",
     "output_type": "stream",
     "text": [
      "C:\\Users\\fzkuji\\.conda\\envs\\ensemble\\Lib\\site-packages\\tqdm\\auto.py:21: TqdmWarning: IProgress not found. Please update jupyter and ipywidgets. See https://ipywidgets.readthedocs.io/en/stable/user_install.html\n",
      "  from .autonotebook import tqdm as notebook_tqdm\n"
     ]
    },
    {
     "name": "stdout",
     "output_type": "stream",
     "text": [
      "Processing split: train ...\n",
      "  Loading subset: main ...\n",
      "  Loading subset: socratic ...\n",
      "Exported: gsm8k/train.json\n",
      "Processing split: test ...\n",
      "  Loading subset: main ...\n",
      "  Loading subset: socratic ...\n",
      "Exported: gsm8k/test.json\n",
      "All splits processed and saved.\n"
     ]
    }
   ],
   "execution_count": 1
  },
  {
   "metadata": {},
   "cell_type": "code",
   "outputs": [],
   "execution_count": null,
   "source": "",
   "id": "a5767d5ca18945d4"
  }
 ],
 "metadata": {
  "kernelspec": {
   "display_name": "Python 3",
   "language": "python",
   "name": "python3"
  },
  "language_info": {
   "codemirror_mode": {
    "name": "ipython",
    "version": 2
   },
   "file_extension": ".py",
   "mimetype": "text/x-python",
   "name": "python",
   "nbconvert_exporter": "python",
   "pygments_lexer": "ipython2",
   "version": "2.7.6"
  }
 },
 "nbformat": 4,
 "nbformat_minor": 5
}
