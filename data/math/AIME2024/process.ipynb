{
 "cells": [
  {
   "cell_type": "code",
   "id": "initial_id",
   "metadata": {
    "collapsed": true,
    "ExecuteTime": {
     "end_time": "2025-05-04T14:48:05.937523Z",
     "start_time": "2025-05-04T14:48:01.686850Z"
    }
   },
   "source": [
    "from datasets import load_dataset\n",
    "import json\n",
    "import os\n",
    "\n",
    "# Load the dataset (assume you already have it downloaded or can access from hub)\n",
    "dataset = load_dataset(\"HuggingFaceH4/aime_2024\", split=\"train\")  # 修改为你的路径或hub名称\n",
    "\n",
    "# Prepare output list\n",
    "formatted_data = []\n",
    "for item in dataset:\n",
    "    problem = item[\"problem\"].strip() if item[\"problem\"] else \"\"\n",
    "    solution = item[\"solution\"].strip() if item[\"solution\"] else \"\"\n",
    "    # answer = item[\"answer\"] if item[\"answer\"] else \"\"\n",
    "\n",
    "    # # 合并 \\boxed{answer}\n",
    "    # if answer:\n",
    "    #     solution += f\"\\n\\\\boxed{{{answer}}}\"\n",
    "\n",
    "    formatted_data.append({\n",
    "        \"instruction\": \"Solve the following math problem step by step. Write your reasoning clearly using LaTeX. Box the final answer using \\\\boxed{}.\",\n",
    "        \"input\": problem,\n",
    "        \"output\": solution\n",
    "    })\n",
    "\n",
    "# 保存\n",
    "os.makedirs(\"aime\", exist_ok=True)\n",
    "with open(\"aime/aime24.json\", \"w\", encoding=\"utf-8\") as f:\n",
    "    json.dump(formatted_data, f, ensure_ascii=False, indent=2)\n",
    "\n",
    "print(\"Saved: aime/aime24.json\")\n"
   ],
   "outputs": [
    {
     "name": "stdout",
     "output_type": "stream",
     "text": [
      "Saved: aime/aime24.json\n"
     ]
    }
   ],
   "execution_count": 6
  },
  {
   "metadata": {},
   "cell_type": "code",
   "outputs": [],
   "execution_count": null,
   "source": "",
   "id": "e3c88c945d0e51a1"
  }
 ],
 "metadata": {
  "kernelspec": {
   "display_name": "Python 3",
   "language": "python",
   "name": "python3"
  },
  "language_info": {
   "codemirror_mode": {
    "name": "ipython",
    "version": 2
   },
   "file_extension": ".py",
   "mimetype": "text/x-python",
   "name": "python",
   "nbconvert_exporter": "python",
   "pygments_lexer": "ipython2",
   "version": "2.7.6"
  }
 },
 "nbformat": 4,
 "nbformat_minor": 5
}
