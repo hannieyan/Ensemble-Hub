{
 "cells": [
  {
   "cell_type": "code",
   "execution_count": 3,
   "id": "c1320d82",
   "metadata": {},
   "outputs": [
    {
     "name": "stdout",
     "output_type": "stream",
     "text": [
      "('id', 'resp_68d60f56d7048196844ac597d8ef0ee20a4073cd9849f8aa')\n",
      "('created_at', 1758859094.0)\n",
      "('error', None)\n",
      "('incomplete_details', None)\n",
      "('instructions', None)\n",
      "('metadata', {})\n",
      "('model', 'gpt-5')\n",
      "('object', 'response')\n",
      "('output', [ResponseReasoningItem(id='rs_68d60f5747e481969ed5c629114e9cd20a4073cd9849f8aa', summary=[], type='reasoning', content=None, encrypted_content=None, status=None), ResponseOutputMessage(id='msg_68d60f6ac068819690f577c89976d8b60a4073cd9849f8aa', content=[ResponseOutputText(annotations=[], text='# 塔罗“为何有效”\\n\\n- 若指“能预测未来”：暂无科学证据支持超自然准确性。\\n- 若指“能帮助做决定、理清情绪与思路”：常常有效，因其促发自我探索与意义建构。\\n\\n# 背后的原理\\n\\n1. 投射效应：对含糊符号的自由联想映射个人关切（类似TAT等投射测验）。\\n2. 隐喻与叙事：牌面象征为思考提供认知脚手架，便于重组故事、重构问题。\\n3. 结构化注意：牌阵位置（如“过去/现在/未来”）给出框架，使思考有序。\\n4. 随机性破固：随机抽牌打破既有定势，促进发散与新视角。\\n5. 仪式与期待：设置场景与流程提升专注、降低心智噪声，带来“仪式安慰”。\\n6. 社会互动：占卜对话近似教练式访谈，增强情绪调节与动机澄清。\\n7. 通用语句效应：广义描述易被套用（Barnum效应），若转化为提问可促成真实洞见。\\n8. 元认知启动：把问题外化到牌面，形成“心理距离”，更易客观审视。\\n\\n# 可迁移的方法（不需要塔罗也能用）\\n\\n- 随机提示卡\\n  - 例：Oblique Strategies、价值卡、情绪卡。抽3张→联想→形成行动要点。\\n- 页面占卜（Bibliomancy）\\n  - 随机翻书选一段→提炼隐喻→对应“现状/阻碍/下一步”。\\n- 词语/图像拼贴\\n  - 随机词库或图库抽取→写下第一反应→组故事→提炼决策标准。\\n- 结构化反思模板\\n  - 三格法：现状-阻碍-建议；或价值-恐惧-下一步；过去-教训-承诺。\\n- 设计随机化\\n  - 骰子/抽签决定视角：扩大、缩小、反转、组合、限制；每一步写一条可执行尝试。\\n- 决策预检\\n  - 预演失败（pre-mortem）→列风险与防范→设定“最小可行下一步”。\\n- 叙事重构\\n  - 用角色/原型（战士、疗愈者、探索者）审视同一问题，生成不同策略。\\n- 引导式自问清单\\n  - 我真正在乎的是什么？若维持现状1年后会怎样？最小可逆试探是什么？\\n- 情绪-证据分离\\n  - 两列：我在感受什么/我掌握的证据是什么→找出可检验的假设。\\n- 微仪式\\n  - 定意图→计时15分钟→写3条洞见+1条本周行动→设提醒复盘。\\n\\n# 快速操作手册（5步）\\n\\n1. 定义主题与目标（一句话）。\\n2. 用随机媒介抽取3个元素（牌/词/句/图）。\\n3. 绑定结构位置（如：现状/阻碍/建议）。\\n4. 每格写下：它让我想到什么？与我主题的关系？\\n5. 产出：1条洞见、1个风险、1个48小时内可执行的最小行动。\\n\\n# 常用模板（可替代牌阵）\\n\\n- 过去-现在-未来\\n- 现状-阻碍-建议\\n- 价值-恐惧-下一步\\n- 资源-盲点-实验\\n\\n# 注意\\n\\n- 将占卜视为思考工具而非定论；重大医疗、法律、财务决策需专业证据。\\n- 若处于重度情绪困扰或强迫求签，优先寻求专业支持。', type='output_text', logprobs=None)], role='assistant', status='completed', type='message')])\n",
      "('parallel_tool_calls', True)\n",
      "('temperature', 1.0)\n",
      "('tool_choice', 'auto')\n",
      "('tools', [])\n",
      "('top_p', 1.0)\n",
      "('background', False)\n",
      "('conversation', None)\n",
      "('max_output_tokens', None)\n",
      "('max_tool_calls', None)\n",
      "('previous_response_id', None)\n",
      "('prompt', None)\n",
      "('prompt_cache_key', None)\n",
      "('reasoning', Reasoning(effort='high', generate_summary=None, summary=None))\n",
      "('safety_identifier', None)\n",
      "('service_tier', 'default')\n",
      "('status', 'completed')\n",
      "('text', ResponseTextConfig(format=ResponseFormatText(type='text'), verbosity=None))\n",
      "('top_logprobs', None)\n",
      "('truncation', 'disabled')\n",
      "('usage', ResponseUsage(input_tokens=29, input_tokens_details=InputTokensDetails(cached_tokens=0), output_tokens=2196, output_tokens_details=OutputTokensDetails(reasoning_tokens=1280), total_tokens=2225))\n",
      "('user', None)\n",
      "('content_filters', None)\n",
      "('store', True)\n"
     ]
    }
   ],
   "source": [
    "from openai import OpenAI\n",
    "\n",
    "client = OpenAI(\n",
    "    api_key=\"sk-JVnfLVrsuZDuXdfb0702891734394c0eB645C733941fF10d\", # 换成你在后台生成的 Key \"sk-***\"\n",
    "    base_url=\"https://aihubmix.com/v1\"\n",
    ")\n",
    "\n",
    "response = client.responses.create(\n",
    "    model=\"gpt-5\", # gpt-5, gpt-5-chat-latest, gpt-5-mini, gpt-5-nano\n",
    "    input=\"塔罗占卜为何有效，背后的原理和可迁移的方法是什么？Output format: Markdown\", # GPT-5 默认不使用 Markdown 格式输出，需要明确指定。\n",
    "    reasoning={\n",
    "        \"effort\": \"high\" # 推理深度 - Controls how many reasoning tokens the model generates before producing a response. value can be \"minimal\", \"low\", \"medium\", \"high\", default is \"medium\"\n",
    "    },\n",
    "    text={\n",
    "        \"verbosity\": \"low\" # 输出篇幅 - Verbosity determines how many output tokens are generated. value can be \"low\", \"medium\", \"high\", Models before GPT-5 have used medium verbosity by default. \n",
    "    },\n",
    "    # stream=True\n",
    ")\n",
    "\n",
    "for event in response:\n",
    "  print(event)"
   ]
  },
  {
   "cell_type": "code",
   "execution_count": 4,
   "id": "5665329d",
   "metadata": {},
   "outputs": [
    {
     "name": "stdout",
     "output_type": "stream",
     "text": [
      "Response(id='resp_68d60f56d7048196844ac597d8ef0ee20a4073cd9849f8aa', created_at=1758859094.0, error=None, incomplete_details=None, instructions=None, metadata={}, model='gpt-5', object='response', output=[ResponseReasoningItem(id='rs_68d60f5747e481969ed5c629114e9cd20a4073cd9849f8aa', summary=[], type='reasoning', content=None, encrypted_content=None, status=None), ResponseOutputMessage(id='msg_68d60f6ac068819690f577c89976d8b60a4073cd9849f8aa', content=[ResponseOutputText(annotations=[], text='# 塔罗“为何有效”\\n\\n- 若指“能预测未来”：暂无科学证据支持超自然准确性。\\n- 若指“能帮助做决定、理清情绪与思路”：常常有效，因其促发自我探索与意义建构。\\n\\n# 背后的原理\\n\\n1. 投射效应：对含糊符号的自由联想映射个人关切（类似TAT等投射测验）。\\n2. 隐喻与叙事：牌面象征为思考提供认知脚手架，便于重组故事、重构问题。\\n3. 结构化注意：牌阵位置（如“过去/现在/未来”）给出框架，使思考有序。\\n4. 随机性破固：随机抽牌打破既有定势，促进发散与新视角。\\n5. 仪式与期待：设置场景与流程提升专注、降低心智噪声，带来“仪式安慰”。\\n6. 社会互动：占卜对话近似教练式访谈，增强情绪调节与动机澄清。\\n7. 通用语句效应：广义描述易被套用（Barnum效应），若转化为提问可促成真实洞见。\\n8. 元认知启动：把问题外化到牌面，形成“心理距离”，更易客观审视。\\n\\n# 可迁移的方法（不需要塔罗也能用）\\n\\n- 随机提示卡\\n  - 例：Oblique Strategies、价值卡、情绪卡。抽3张→联想→形成行动要点。\\n- 页面占卜（Bibliomancy）\\n  - 随机翻书选一段→提炼隐喻→对应“现状/阻碍/下一步”。\\n- 词语/图像拼贴\\n  - 随机词库或图库抽取→写下第一反应→组故事→提炼决策标准。\\n- 结构化反思模板\\n  - 三格法：现状-阻碍-建议；或价值-恐惧-下一步；过去-教训-承诺。\\n- 设计随机化\\n  - 骰子/抽签决定视角：扩大、缩小、反转、组合、限制；每一步写一条可执行尝试。\\n- 决策预检\\n  - 预演失败（pre-mortem）→列风险与防范→设定“最小可行下一步”。\\n- 叙事重构\\n  - 用角色/原型（战士、疗愈者、探索者）审视同一问题，生成不同策略。\\n- 引导式自问清单\\n  - 我真正在乎的是什么？若维持现状1年后会怎样？最小可逆试探是什么？\\n- 情绪-证据分离\\n  - 两列：我在感受什么/我掌握的证据是什么→找出可检验的假设。\\n- 微仪式\\n  - 定意图→计时15分钟→写3条洞见+1条本周行动→设提醒复盘。\\n\\n# 快速操作手册（5步）\\n\\n1. 定义主题与目标（一句话）。\\n2. 用随机媒介抽取3个元素（牌/词/句/图）。\\n3. 绑定结构位置（如：现状/阻碍/建议）。\\n4. 每格写下：它让我想到什么？与我主题的关系？\\n5. 产出：1条洞见、1个风险、1个48小时内可执行的最小行动。\\n\\n# 常用模板（可替代牌阵）\\n\\n- 过去-现在-未来\\n- 现状-阻碍-建议\\n- 价值-恐惧-下一步\\n- 资源-盲点-实验\\n\\n# 注意\\n\\n- 将占卜视为思考工具而非定论；重大医疗、法律、财务决策需专业证据。\\n- 若处于重度情绪困扰或强迫求签，优先寻求专业支持。', type='output_text', logprobs=None)], role='assistant', status='completed', type='message')], parallel_tool_calls=True, temperature=1.0, tool_choice='auto', tools=[], top_p=1.0, background=False, conversation=None, max_output_tokens=None, max_tool_calls=None, previous_response_id=None, prompt=None, prompt_cache_key=None, reasoning=Reasoning(effort='high', generate_summary=None, summary=None), safety_identifier=None, service_tier='default', status='completed', text=ResponseTextConfig(format=ResponseFormatText(type='text'), verbosity=None), top_logprobs=None, truncation='disabled', usage=ResponseUsage(input_tokens=29, input_tokens_details=InputTokensDetails(cached_tokens=0), output_tokens=2196, output_tokens_details=OutputTokensDetails(reasoning_tokens=1280), total_tokens=2225), user=None, content_filters=None, store=True)\n"
     ]
    }
   ],
   "source": [
    "print(response)"
   ]
  },
  {
   "cell_type": "code",
   "execution_count": null,
   "id": "69c58435",
   "metadata": {},
   "outputs": [],
   "source": []
  }
 ],
 "metadata": {
  "kernelspec": {
   "display_name": "flash",
   "language": "python",
   "name": "python3"
  },
  "language_info": {
   "codemirror_mode": {
    "name": "ipython",
    "version": 3
   },
   "file_extension": ".py",
   "mimetype": "text/x-python",
   "name": "python",
   "nbconvert_exporter": "python",
   "pygments_lexer": "ipython3",
   "version": "3.12.11"
  }
 },
 "nbformat": 4,
 "nbformat_minor": 5
}
